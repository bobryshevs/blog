{
 "cells": [
  {
   "cell_type": "code",
   "execution_count": 1,
   "id": "746f4021",
   "metadata": {},
   "outputs": [],
   "source": [
    "from image_merger import ImageMerger"
   ]
  },
  {
   "cell_type": "code",
   "execution_count": 2,
   "id": "b5227ac3",
   "metadata": {},
   "outputs": [],
   "source": [
    "image_merger_obj = ImageMerger()"
   ]
  },
  {
   "cell_type": "code",
   "execution_count": 3,
   "id": "a7afd35c",
   "metadata": {},
   "outputs": [],
   "source": [
    "wall_path = 'data/img/wall.jpg'\n",
    "ava_path = 'data/img/slack.jpeg'"
   ]
  },
  {
   "cell_type": "code",
   "execution_count": 4,
   "id": "97c3d91b",
   "metadata": {},
   "outputs": [],
   "source": [
    "nickname = \"AsdfFdsa\""
   ]
  },
  {
   "cell_type": "code",
   "execution_count": 5,
   "id": "e2a27fa2",
   "metadata": {},
   "outputs": [],
   "source": [
    "logo = image_merger_obj.merge(wall_path, ava_path, nickname)"
   ]
  },
  {
   "cell_type": "code",
   "execution_count": 6,
   "id": "2c05a9d1",
   "metadata": {},
   "outputs": [],
   "source": [
    "logo.show()"
   ]
  },
  {
   "cell_type": "code",
   "execution_count": null,
   "id": "e4704d9b",
   "metadata": {},
   "outputs": [],
   "source": []
  }
 ],
 "metadata": {
  "kernelspec": {
   "display_name": "Python 3 (ipykernel)",
   "language": "python",
   "name": "python3"
  },
  "language_info": {
   "codemirror_mode": {
    "name": "ipython",
    "version": 3
   },
   "file_extension": ".py",
   "mimetype": "text/x-python",
   "name": "python",
   "nbconvert_exporter": "python",
   "pygments_lexer": "ipython3",
   "version": "3.9.6"
  }
 },
 "nbformat": 4,
 "nbformat_minor": 5
}
